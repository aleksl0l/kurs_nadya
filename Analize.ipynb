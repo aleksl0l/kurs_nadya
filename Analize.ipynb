{
 "cells": [
  {
   "cell_type": "code",
   "execution_count": 1,
   "metadata": {},
   "outputs": [],
   "source": [
    "import pandas as pd"
   ]
  },
  {
   "cell_type": "code",
   "execution_count": 2,
   "metadata": {},
   "outputs": [],
   "source": [
    "xl = pd.ExcelFile(\"answersxl.xlsx\")"
   ]
  },
  {
   "cell_type": "code",
   "execution_count": 3,
   "metadata": {},
   "outputs": [],
   "source": [
    "df = xl.parse(xl.sheet_names[0])"
   ]
  },
  {
   "cell_type": "code",
   "execution_count": 4,
   "metadata": {},
   "outputs": [
    {
     "data": {
      "text/plain": [
       "103"
      ]
     },
     "execution_count": 4,
     "metadata": {},
     "output_type": "execute_result"
    }
   ],
   "source": [
    "df.columns.get_loc('Характерны ли для вас приведённые высказывания? [Есть кто-то, кто рядом, когда я в беде.]')"
   ]
  },
  {
   "cell_type": "code",
   "execution_count": 5,
   "metadata": {},
   "outputs": [],
   "source": [
    "soc_pod = df.iloc[:, 103:115]"
   ]
  },
  {
   "cell_type": "code",
   "execution_count": 6,
   "metadata": {},
   "outputs": [],
   "source": [
    "# psih_blag.drop([5, 14]) #drop answer with all NaN"
   ]
  },
  {
   "cell_type": "code",
   "execution_count": 7,
   "metadata": {},
   "outputs": [],
   "source": [
    "psih_blag = df.iloc[:, 115:115+54]"
   ]
  },
  {
   "cell_type": "code",
   "execution_count": 8,
   "metadata": {},
   "outputs": [],
   "source": [
    "psih_blag.replace(to_replace=['Совершенно согласна', 'Согласна', 'Сложно сказать, и согласна, и не согласна', 'Не согласна', 'Категорически не согласна'], \n",
    "                  value=[5, 4, 3, 2, 1], inplace=True)"
   ]
  },
  {
   "cell_type": "code",
   "execution_count": 37,
   "metadata": {},
   "outputs": [],
   "source": [
    "psih_blag.columns = range(1, len(psih_blag.columns)+1)\n",
    "psih_blag.fillna(psih_blag.median(), inplace=True)\n",
    "result_psih_blag = pd.DataFrame()\n",
    "p = {1: 5, 2: 4, 3:3, 4:2, 5:1}\n",
    "result_psih_blag['Автономность'] = psih_blag[1] + psih_blag[7] + psih_blag[22] + psih_blag[29] + psih_blag[54] + \\\n",
    "                                   psih_blag[8].apply(lambda x: p[x])+\\\n",
    "                                   psih_blag[15].apply(lambda x: p[x])+\\\n",
    "                                    psih_blag[36].apply(lambda x: p[x])+\\\n",
    "                                    psih_blag[52].apply(lambda x: p[x])                                           "
   ]
  },
  {
   "cell_type": "code",
   "execution_count": 44,
   "metadata": {},
   "outputs": [],
   "source": [
    "result_psih_blag['Компетентность'] = psih_blag[2] + psih_blag[14] + psih_blag[30] + psih_blag[37] +\\\n",
    "                                   psih_blag[9].apply(lambda x: p[x])+\\\n",
    "                                   psih_blag[16].apply(lambda x: p[x])+\\\n",
    "                                    psih_blag[23].apply(lambda x: p[x])+\\\n",
    "                                    psih_blag[46].apply(lambda x: p[x])+\\\n",
    "                                    psih_blag[50].apply(lambda x: p[x])"
   ]
  },
  {
   "cell_type": "code",
   "execution_count": 46,
   "metadata": {},
   "outputs": [],
   "source": [
    "result_psih_blag['Личностный рост'] = psih_blag[3] + psih_blag[10] + psih_blag[21] + psih_blag[38] + psih_blag[43]+\\\n",
    "                                   psih_blag[17].apply(lambda x: p[x])+\\\n",
    "                                   psih_blag[24].apply(lambda x: p[x])+\\\n",
    "                                   psih_blag[31].apply(lambda x: p[x])+\\\n",
    "                                   psih_blag[51].apply(lambda x: p[x]) "
   ]
  },
  {
   "cell_type": "code",
   "execution_count": 48,
   "metadata": {},
   "outputs": [],
   "source": [
    "result_psih_blag['Позитивные отношения'] = psih_blag[11] + psih_blag[28] + psih_blag[32] + psih_blag[39]+\\\n",
    "                                   psih_blag[4].apply(lambda x: p[x])+\\\n",
    "                                   psih_blag[18].apply(lambda x: p[x])+\\\n",
    "                                   psih_blag[25].apply(lambda x: p[x])+\\\n",
    "                                   psih_blag[47].apply(lambda x: p[x])+\\\n",
    "                                   psih_blag[53].apply(lambda x: p[x]) "
   ]
  },
  {
   "cell_type": "code",
   "execution_count": 49,
   "metadata": {},
   "outputs": [],
   "source": [
    "result_psih_blag['Жизненные цели'] = psih_blag[5] + psih_blag[19] + psih_blag[26] + psih_blag[35] + psih_blag[45]+\\\n",
    "                                   psih_blag[12].apply(lambda x: p[x])+\\\n",
    "                                   psih_blag[33].apply(lambda x: p[x])+\\\n",
    "                                   psih_blag[40].apply(lambda x: p[x])+\\\n",
    "                                   psih_blag[48].apply(lambda x: p[x]) "
   ]
  },
  {
   "cell_type": "code",
   "execution_count": 50,
   "metadata": {},
   "outputs": [],
   "source": [
    "result_psih_blag['Самопринятие'] = psih_blag[13] + psih_blag[20] + psih_blag[34] + psih_blag[41] + psih_blag[49]+\\\n",
    "                                   psih_blag[6].apply(lambda x: p[x])+\\\n",
    "                                   psih_blag[27].apply(lambda x: p[x])+\\\n",
    "                                   psih_blag[42].apply(lambda x: p[x])+\\\n",
    "                                   psih_blag[44].apply(lambda x: p[x]) "
   ]
  },
  {
   "cell_type": "code",
   "execution_count": 54,
   "metadata": {
    "scrolled": true
   },
   "outputs": [
    {
     "data": {
      "text/plain": [
       "0     192.0\n",
       "1     211.0\n",
       "2     186.0\n",
       "3     175.0\n",
       "4     216.0\n",
       "5     205.0\n",
       "6     197.0\n",
       "7     244.0\n",
       "8     192.0\n",
       "9     206.0\n",
       "10    185.0\n",
       "11    157.0\n",
       "12    164.0\n",
       "13    156.0\n",
       "14    196.0\n",
       "15    193.0\n",
       "16    211.0\n",
       "17    212.0\n",
       "18    183.0\n",
       "19    209.0\n",
       "20    175.0\n",
       "21    149.0\n",
       "22    184.0\n",
       "23    176.0\n",
       "24    197.0\n",
       "25    197.0\n",
       "26    147.0\n",
       "dtype: float64"
      ]
     },
     "execution_count": 54,
     "metadata": {},
     "output_type": "execute_result"
    }
   ],
   "source": [
    "result_psih_blag.sum(axis=1)"
   ]
  },
  {
   "cell_type": "code",
   "execution_count": null,
   "metadata": {},
   "outputs": [],
   "source": []
  }
 ],
 "metadata": {
  "kernelspec": {
   "display_name": "Python 3",
   "language": "python",
   "name": "python3"
  },
  "language_info": {
   "codemirror_mode": {
    "name": "ipython",
    "version": 3
   },
   "file_extension": ".py",
   "mimetype": "text/x-python",
   "name": "python",
   "nbconvert_exporter": "python",
   "pygments_lexer": "ipython3",
   "version": "3.6.5"
  }
 },
 "nbformat": 4,
 "nbformat_minor": 2
}
