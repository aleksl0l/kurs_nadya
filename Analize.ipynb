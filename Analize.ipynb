{
 "cells": [
  {
   "cell_type": "code",
   "execution_count": 109,
   "metadata": {},
   "outputs": [],
   "source": [
    "import pandas as pd\n",
    "import numpy as np"
   ]
  },
  {
   "cell_type": "code",
   "execution_count": 2,
   "metadata": {},
   "outputs": [],
   "source": [
    "xl = pd.ExcelFile(\"answersxl.xlsx\")"
   ]
  },
  {
   "cell_type": "code",
   "execution_count": 3,
   "metadata": {},
   "outputs": [],
   "source": [
    "df = xl.parse(xl.sheet_names[0])"
   ]
  },
  {
   "cell_type": "code",
   "execution_count": null,
   "metadata": {},
   "outputs": [],
   "source": []
  },
  {
   "cell_type": "code",
   "execution_count": 4,
   "metadata": {},
   "outputs": [],
   "source": [
    "soc_pod = df.iloc[:, 103:115]"
   ]
  },
  {
   "cell_type": "code",
   "execution_count": null,
   "metadata": {},
   "outputs": [],
   "source": []
  },
  {
   "cell_type": "code",
   "execution_count": 5,
   "metadata": {},
   "outputs": [],
   "source": [
    "psih_blag = df.iloc[:, 115:115+54]"
   ]
  },
  {
   "cell_type": "code",
   "execution_count": 6,
   "metadata": {},
   "outputs": [],
   "source": [
    "psih_blag.replace(to_replace=['Совершенно согласна', 'Согласна', 'Сложно сказать, и согласна, и не согласна', 'Не согласна', 'Категорически не согласна'], \n",
    "                  value=[5, 4, 3, 2, 1], inplace=True)"
   ]
  },
  {
   "cell_type": "code",
   "execution_count": 7,
   "metadata": {},
   "outputs": [],
   "source": [
    "psih_blag.columns = range(1, len(psih_blag.columns)+1)\n",
    "psih_blag.fillna(psih_blag.median(), inplace=True)\n",
    "result_psih_blag = pd.DataFrame()\n",
    "p = {1: 5, 2: 4, 3:3, 4:2, 5:1}\n",
    "result_psih_blag['Автономность'] = psih_blag[1] + psih_blag[7] + psih_blag[22] + psih_blag[29] + psih_blag[54] + \\\n",
    "                                   psih_blag[8].apply(lambda x: p[x])+\\\n",
    "                                   psih_blag[15].apply(lambda x: p[x])+\\\n",
    "                                    psih_blag[36].apply(lambda x: p[x])+\\\n",
    "                                    psih_blag[52].apply(lambda x: p[x])                                           "
   ]
  },
  {
   "cell_type": "code",
   "execution_count": 8,
   "metadata": {},
   "outputs": [],
   "source": [
    "result_psih_blag['Компетентность'] = psih_blag[2] + psih_blag[14] + psih_blag[30] + psih_blag[37] +\\\n",
    "                                   psih_blag[9].apply(lambda x: p[x])+\\\n",
    "                                   psih_blag[16].apply(lambda x: p[x])+\\\n",
    "                                    psih_blag[23].apply(lambda x: p[x])+\\\n",
    "                                    psih_blag[46].apply(lambda x: p[x])+\\\n",
    "                                    psih_blag[50].apply(lambda x: p[x])"
   ]
  },
  {
   "cell_type": "code",
   "execution_count": 9,
   "metadata": {},
   "outputs": [],
   "source": [
    "result_psih_blag['Личностный рост'] = psih_blag[3] + psih_blag[10] + psih_blag[21] + psih_blag[38] + psih_blag[43]+\\\n",
    "                                   psih_blag[17].apply(lambda x: p[x])+\\\n",
    "                                   psih_blag[24].apply(lambda x: p[x])+\\\n",
    "                                   psih_blag[31].apply(lambda x: p[x])+\\\n",
    "                                   psih_blag[51].apply(lambda x: p[x]) "
   ]
  },
  {
   "cell_type": "code",
   "execution_count": 10,
   "metadata": {},
   "outputs": [],
   "source": [
    "result_psih_blag['Позитивные отношения'] = psih_blag[11] + psih_blag[28] + psih_blag[32] + psih_blag[39]+\\\n",
    "                                   psih_blag[4].apply(lambda x: p[x])+\\\n",
    "                                   psih_blag[18].apply(lambda x: p[x])+\\\n",
    "                                   psih_blag[25].apply(lambda x: p[x])+\\\n",
    "                                   psih_blag[47].apply(lambda x: p[x])+\\\n",
    "                                   psih_blag[53].apply(lambda x: p[x]) "
   ]
  },
  {
   "cell_type": "code",
   "execution_count": 11,
   "metadata": {},
   "outputs": [],
   "source": [
    "result_psih_blag['Жизненные цели'] = psih_blag[5] + psih_blag[19] + psih_blag[26] + psih_blag[35] + psih_blag[45]+\\\n",
    "                                   psih_blag[12].apply(lambda x: p[x])+\\\n",
    "                                   psih_blag[33].apply(lambda x: p[x])+\\\n",
    "                                   psih_blag[40].apply(lambda x: p[x])+\\\n",
    "                                   psih_blag[48].apply(lambda x: p[x]) "
   ]
  },
  {
   "cell_type": "code",
   "execution_count": 12,
   "metadata": {},
   "outputs": [],
   "source": [
    "result_psih_blag['Самопринятие'] = psih_blag[13] + psih_blag[20] + psih_blag[34] + psih_blag[41] + psih_blag[49]+\\\n",
    "                                   psih_blag[6].apply(lambda x: p[x])+\\\n",
    "                                   psih_blag[27].apply(lambda x: p[x])+\\\n",
    "                                   psih_blag[42].apply(lambda x: p[x])+\\\n",
    "                                   psih_blag[44].apply(lambda x: p[x]) "
   ]
  },
  {
   "cell_type": "code",
   "execution_count": 13,
   "metadata": {
    "scrolled": true
   },
   "outputs": [],
   "source": [
    "# result_psih_blag.sum(axis=1)"
   ]
  },
  {
   "cell_type": "code",
   "execution_count": 14,
   "metadata": {},
   "outputs": [],
   "source": [
    "svaws = df.iloc[:, 1:47]\n",
    "svaws.columns = range(1, len(svaws.columns)+1)\n",
    "svaws.fillna('Никогда', inplace=True)"
   ]
  },
  {
   "cell_type": "code",
   "execution_count": 15,
   "metadata": {},
   "outputs": [],
   "source": [
    "svaws.replace(to_replace=['Никогда', 'Один раз', 'Пару раз', 'Редко', 'Много раз', 'Часто'], \n",
    "                  value=[0, 1, 2, 3, 4, 5], inplace=True)"
   ]
  },
  {
   "cell_type": "code",
   "execution_count": 16,
   "metadata": {},
   "outputs": [],
   "source": [
    "result_svaws = pd.DataFrame()\n",
    "result_svaws['Символическое насилие'] = svaws[1] + svaws[2] + svaws[3] + svaws[4]\n",
    "result_svaws['Легкое насилие'] = svaws[5] + svaws[6] + svaws[7] + svaws[8]\n",
    "result_svaws['Умеренное насилие'] = svaws[9] + svaws[10] + svaws[11] + svaws[12]\n",
    "result_svaws['Серьезное насилие'] = svaws[13] + svaws[14] + svaws[15] + svaws[16] + svaws[17] + svaws[18] + svaws[19]\n",
    "\n",
    "result_svaws['Легкое насилие2'] = svaws[20] + svaws[21] + svaws[22] + svaws[23]\n",
    "result_svaws['Слабое насилие2'] = svaws[24] + svaws[25] + svaws[26] + svaws[27] + svaws[28]\n",
    "result_svaws['Умеренное насилие2'] = svaws[29] + svaws[30] + svaws[31]\n",
    "result_svaws['Серьезное насилие2'] = svaws[32] + svaws[33] + svaws[34] + svaws[35] + svaws[36] + svaws[37] + svaws[38]\n",
    "\n",
    "result_svaws['Сексуальная агрессия'] = svaws[39] + svaws[40] + svaws[41] + svaws[42] + svaws[43] + svaws[44]"
   ]
  },
  {
   "cell_type": "code",
   "execution_count": 17,
   "metadata": {},
   "outputs": [],
   "source": [
    "chot = df.iloc[:, 103: 115]\n",
    "chot.columns = range(1, len(chot.columns)+1)\n",
    "chot.fillna('Нет', inplace=True)\n",
    "chot.replace(to_replace=['Нет', 'Да'], \n",
    "                  value=[0, 1], inplace=True)"
   ]
  },
  {
   "cell_type": "code",
   "execution_count": 18,
   "metadata": {},
   "outputs": [],
   "source": [
    "result_chot = pd.DataFrame()\n",
    "result_chot['Семья'] = chot[3] + chot[4] + chot[8] + chot[11]\n",
    "result_chot['Друзья'] = chot[6] + chot[7] + chot[9] + chot[12]\n",
    "result_chot['Значимых других'] = chot[1] + chot[2] + chot[5] + chot[10]"
   ]
  },
  {
   "cell_type": "code",
   "execution_count": 19,
   "metadata": {},
   "outputs": [],
   "source": [
    "srq = df.iloc[:, 55: 103]\n",
    "srq.columns = range(1, len(srq.columns)+1)\n",
    "srq.dropna(how='all', inplace=True)\n",
    "srq.fillna('Никогда', inplace=True)\n",
    "srq.replace(to_replace=['Никогда', 'Редко', 'Иногда', 'Часто', 'Всегда'], \n",
    "                  value=[0, 1, 2, 3, 4], inplace=True)"
   ]
  },
  {
   "cell_type": "code",
   "execution_count": 20,
   "metadata": {},
   "outputs": [],
   "source": [
    "result_srq = pd.DataFrame()\n",
    "result_srq['Turning Against'] = srq.loc[:, [17, 25, 33, 2, 10, 12, 18, 26, 44, 4, 27, 34, 43]].sum(axis=1)\n",
    "result_srq['Unsupportive Acknowledgment'] = srq.loc[:, [3, 20, 28, 36, 5, 13, 21, 29, 37, 45, 11, 19, 35]].sum(axis=1)\n",
    "result_srq['Positive reactions'] = srq.loc[:, [1, 6, 7, 9, 14, 15, 22, 23, 30, 31, 39, 40, 41, 46, 47, 8, 16, 24, 32, 48]].sum(axis=1)\n",
    "\n",
    "result_srq['Emotional Support'] = srq.loc[:, [1, 6, 7, 9, 14, 15, 22, 23, 30, 31, 39, 40, 41, 46, 47]].sum(axis=1)\n",
    "result_srq['Tangible Aid'] = srq.loc[:, [8, 16, 24, 32, 48]].sum(axis=1)\n",
    "result_srq['Blame'] = srq.loc[:, [17, 25, 33]].sum(axis=1)\n",
    "result_srq['Stigma/treat differently'] = srq.loc[:, [2, 10, 12, 18, 26, 44]].sum(axis=1)\n",
    "result_srq['Control'] = srq.loc[:, [4, 11, 19, 27, 34, 35, 43]].sum(axis=1)\n",
    "result_srq['Egocentric'] = srq.loc[:, [3, 20, 28, 36]].sum(axis=1)\n",
    "result_srq['Distract'] = srq.loc[:, [5, 13, 21, 29, 37, 45]].sum(axis=1)\n"
   ]
  },
  {
   "cell_type": "code",
   "execution_count": 21,
   "metadata": {},
   "outputs": [],
   "source": [
    "# General Scales:\n",
    "# 1. Turning Against: 17, 25, 33, 2, 10, 12, 18, 26, 44, 4, 27, 34, 43\n",
    "# 2. Unsupportive Acknowledgment: 3, 20, 28, 36, 5, 13, 21, 29, 37, 45, 11, 19, 35\n",
    "# 3. Positive reactions: 1, 6, 7, 9, 14, 15, 22, 23, 30, 31, 39, 40, 41, 46, 47, 8, 16, 24, 32, 48\n",
    "  \n",
    "# Specific Scales:\n",
    "# 1. Emotional Support: 1, 6, 7, 9, 14, 15, 22, 23, 30, 31, 39, 40, 41, 46, 47\n",
    "# 2. Tangible Aid: 8, 16, 24, 32, 48\n",
    "# 3. Blame: 17, 25, 33\n",
    "# 4. Stigma/treat differently: 2, 10, 12, 18, 26, 44\n",
    "# 5. Control: 4, 11, 19, 27, 34, 35, 43\n",
    "# 6. Egocentric: 3, 20, 28, 36\n",
    "# 7. Distract: 5, 13, 21, 29, 37, 45"
   ]
  },
  {
   "cell_type": "code",
   "execution_count": 125,
   "metadata": {},
   "outputs": [],
   "source": [
    "leq = df.iloc[:, 169: 169+176]\n",
    "leq.columns = range(1, len(leq.columns)+1)\n",
    "cols_dates = [1,5,9,13,18,23,28,33,38,43,48,53,58,63,68,73,78,82,87,91,95,99,103,107,111,115,119,123,128,132,137,142,147,152,157,162,167,172]\n",
    "nums = leq.loc[:, cols_dates]\n",
    "result_leq = pd.DataFrame()"
   ]
  },
  {
   "cell_type": "code",
   "execution_count": 126,
   "metadata": {},
   "outputs": [],
   "source": [
    "nums = pd.DataFrame(nums.notnull().astype('int'))"
   ]
  },
  {
   "cell_type": "code",
   "execution_count": 127,
   "metadata": {},
   "outputs": [],
   "source": [
    "result_leq['Nums'] = nums.sum(axis=1)"
   ]
  },
  {
   "cell_type": "code",
   "execution_count": 128,
   "metadata": {},
   "outputs": [],
   "source": [
    "cols_vlianie = [x+2 for x in cols_dates]\n",
    "vlianie = leq.loc[:, cols_vlianie]"
   ]
  },
  {
   "cell_type": "code",
   "execution_count": 129,
   "metadata": {},
   "outputs": [],
   "source": [
    "vlianie.fillna(0.0, inplace=True)\n",
    "result_leq['Vlianie'] = vlianie.sum(axis=1)"
   ]
  },
  {
   "cell_type": "code",
   "execution_count": 136,
   "metadata": {},
   "outputs": [],
   "source": [
    "result_leq['/vlianie'] = np.where(result_leq['Nums'] == 0, 0, result_leq['Vlianie']/result_leq['Nums'])"
   ]
  },
  {
   "cell_type": "code",
   "execution_count": 137,
   "metadata": {},
   "outputs": [
    {
     "data": {
      "text/html": [
       "<div>\n",
       "<style scoped>\n",
       "    .dataframe tbody tr th:only-of-type {\n",
       "        vertical-align: middle;\n",
       "    }\n",
       "\n",
       "    .dataframe tbody tr th {\n",
       "        vertical-align: top;\n",
       "    }\n",
       "\n",
       "    .dataframe thead th {\n",
       "        text-align: right;\n",
       "    }\n",
       "</style>\n",
       "<table border=\"1\" class=\"dataframe\">\n",
       "  <thead>\n",
       "    <tr style=\"text-align: right;\">\n",
       "      <th></th>\n",
       "      <th>Nums</th>\n",
       "      <th>Vlianie</th>\n",
       "      <th>/vlianie</th>\n",
       "    </tr>\n",
       "  </thead>\n",
       "  <tbody>\n",
       "    <tr>\n",
       "      <th>0</th>\n",
       "      <td>0</td>\n",
       "      <td>0.0</td>\n",
       "      <td>0.000000</td>\n",
       "    </tr>\n",
       "    <tr>\n",
       "      <th>1</th>\n",
       "      <td>3</td>\n",
       "      <td>8.0</td>\n",
       "      <td>2.666667</td>\n",
       "    </tr>\n",
       "    <tr>\n",
       "      <th>2</th>\n",
       "      <td>2</td>\n",
       "      <td>10.0</td>\n",
       "      <td>5.000000</td>\n",
       "    </tr>\n",
       "    <tr>\n",
       "      <th>3</th>\n",
       "      <td>10</td>\n",
       "      <td>32.0</td>\n",
       "      <td>3.200000</td>\n",
       "    </tr>\n",
       "    <tr>\n",
       "      <th>4</th>\n",
       "      <td>7</td>\n",
       "      <td>17.0</td>\n",
       "      <td>2.428571</td>\n",
       "    </tr>\n",
       "    <tr>\n",
       "      <th>5</th>\n",
       "      <td>3</td>\n",
       "      <td>20.0</td>\n",
       "      <td>6.666667</td>\n",
       "    </tr>\n",
       "    <tr>\n",
       "      <th>6</th>\n",
       "      <td>1</td>\n",
       "      <td>14.0</td>\n",
       "      <td>14.000000</td>\n",
       "    </tr>\n",
       "    <tr>\n",
       "      <th>7</th>\n",
       "      <td>10</td>\n",
       "      <td>16.0</td>\n",
       "      <td>1.600000</td>\n",
       "    </tr>\n",
       "    <tr>\n",
       "      <th>8</th>\n",
       "      <td>17</td>\n",
       "      <td>59.0</td>\n",
       "      <td>3.470588</td>\n",
       "    </tr>\n",
       "    <tr>\n",
       "      <th>9</th>\n",
       "      <td>26</td>\n",
       "      <td>63.0</td>\n",
       "      <td>2.423077</td>\n",
       "    </tr>\n",
       "    <tr>\n",
       "      <th>10</th>\n",
       "      <td>5</td>\n",
       "      <td>24.0</td>\n",
       "      <td>4.800000</td>\n",
       "    </tr>\n",
       "    <tr>\n",
       "      <th>11</th>\n",
       "      <td>14</td>\n",
       "      <td>53.0</td>\n",
       "      <td>3.785714</td>\n",
       "    </tr>\n",
       "    <tr>\n",
       "      <th>12</th>\n",
       "      <td>3</td>\n",
       "      <td>13.0</td>\n",
       "      <td>4.333333</td>\n",
       "    </tr>\n",
       "    <tr>\n",
       "      <th>13</th>\n",
       "      <td>15</td>\n",
       "      <td>38.0</td>\n",
       "      <td>2.533333</td>\n",
       "    </tr>\n",
       "    <tr>\n",
       "      <th>14</th>\n",
       "      <td>11</td>\n",
       "      <td>49.0</td>\n",
       "      <td>4.454545</td>\n",
       "    </tr>\n",
       "    <tr>\n",
       "      <th>15</th>\n",
       "      <td>7</td>\n",
       "      <td>24.0</td>\n",
       "      <td>3.428571</td>\n",
       "    </tr>\n",
       "    <tr>\n",
       "      <th>16</th>\n",
       "      <td>11</td>\n",
       "      <td>19.0</td>\n",
       "      <td>1.727273</td>\n",
       "    </tr>\n",
       "    <tr>\n",
       "      <th>17</th>\n",
       "      <td>10</td>\n",
       "      <td>37.0</td>\n",
       "      <td>3.700000</td>\n",
       "    </tr>\n",
       "    <tr>\n",
       "      <th>18</th>\n",
       "      <td>6</td>\n",
       "      <td>14.0</td>\n",
       "      <td>2.333333</td>\n",
       "    </tr>\n",
       "    <tr>\n",
       "      <th>19</th>\n",
       "      <td>0</td>\n",
       "      <td>1.0</td>\n",
       "      <td>0.000000</td>\n",
       "    </tr>\n",
       "    <tr>\n",
       "      <th>20</th>\n",
       "      <td>6</td>\n",
       "      <td>25.0</td>\n",
       "      <td>4.166667</td>\n",
       "    </tr>\n",
       "    <tr>\n",
       "      <th>21</th>\n",
       "      <td>22</td>\n",
       "      <td>81.0</td>\n",
       "      <td>3.681818</td>\n",
       "    </tr>\n",
       "    <tr>\n",
       "      <th>22</th>\n",
       "      <td>3</td>\n",
       "      <td>6.0</td>\n",
       "      <td>2.000000</td>\n",
       "    </tr>\n",
       "    <tr>\n",
       "      <th>23</th>\n",
       "      <td>11</td>\n",
       "      <td>33.0</td>\n",
       "      <td>3.000000</td>\n",
       "    </tr>\n",
       "    <tr>\n",
       "      <th>24</th>\n",
       "      <td>7</td>\n",
       "      <td>21.0</td>\n",
       "      <td>3.000000</td>\n",
       "    </tr>\n",
       "    <tr>\n",
       "      <th>25</th>\n",
       "      <td>7</td>\n",
       "      <td>21.0</td>\n",
       "      <td>3.000000</td>\n",
       "    </tr>\n",
       "    <tr>\n",
       "      <th>26</th>\n",
       "      <td>6</td>\n",
       "      <td>8.0</td>\n",
       "      <td>1.333333</td>\n",
       "    </tr>\n",
       "  </tbody>\n",
       "</table>\n",
       "</div>"
      ],
      "text/plain": [
       "    Nums  Vlianie   /vlianie\n",
       "0      0      0.0   0.000000\n",
       "1      3      8.0   2.666667\n",
       "2      2     10.0   5.000000\n",
       "3     10     32.0   3.200000\n",
       "4      7     17.0   2.428571\n",
       "5      3     20.0   6.666667\n",
       "6      1     14.0  14.000000\n",
       "7     10     16.0   1.600000\n",
       "8     17     59.0   3.470588\n",
       "9     26     63.0   2.423077\n",
       "10     5     24.0   4.800000\n",
       "11    14     53.0   3.785714\n",
       "12     3     13.0   4.333333\n",
       "13    15     38.0   2.533333\n",
       "14    11     49.0   4.454545\n",
       "15     7     24.0   3.428571\n",
       "16    11     19.0   1.727273\n",
       "17    10     37.0   3.700000\n",
       "18     6     14.0   2.333333\n",
       "19     0      1.0   0.000000\n",
       "20     6     25.0   4.166667\n",
       "21    22     81.0   3.681818\n",
       "22     3      6.0   2.000000\n",
       "23    11     33.0   3.000000\n",
       "24     7     21.0   3.000000\n",
       "25     7     21.0   3.000000\n",
       "26     6      8.0   1.333333"
      ]
     },
     "execution_count": 137,
     "metadata": {},
     "output_type": "execute_result"
    }
   ],
   "source": [
    "result_leq"
   ]
  },
  {
   "cell_type": "code",
   "execution_count": null,
   "metadata": {},
   "outputs": [],
   "source": []
  }
 ],
 "metadata": {
  "kernelspec": {
   "display_name": "Python 3",
   "language": "python",
   "name": "python3"
  },
  "language_info": {
   "codemirror_mode": {
    "name": "ipython",
    "version": 3
   },
   "file_extension": ".py",
   "mimetype": "text/x-python",
   "name": "python",
   "nbconvert_exporter": "python",
   "pygments_lexer": "ipython3",
   "version": "3.6.5"
  }
 },
 "nbformat": 4,
 "nbformat_minor": 2
}
