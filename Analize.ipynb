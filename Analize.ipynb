{
 "cells": [
  {
   "cell_type": "code",
   "execution_count": 1,
   "metadata": {},
   "outputs": [],
   "source": [
    "import pandas as pd\n",
    "import numpy as np"
   ]
  },
  {
   "cell_type": "code",
   "execution_count": 2,
   "metadata": {},
   "outputs": [],
   "source": [
    "xl = pd.ExcelFile(\"answers2.xlsx\")"
   ]
  },
  {
   "cell_type": "code",
   "execution_count": 3,
   "metadata": {},
   "outputs": [],
   "source": [
    "df = xl.parse(xl.sheet_names[0])"
   ]
  },
  {
   "cell_type": "code",
   "execution_count": null,
   "metadata": {},
   "outputs": [],
   "source": []
  },
  {
   "cell_type": "code",
   "execution_count": 4,
   "metadata": {},
   "outputs": [],
   "source": [
    "soc_pod = df.iloc[:, 103:115]\n",
    "soc_pod.replace(to_replace=['Да', 'Нет'], value=[1, 0], inplace=True)\n",
    "soc_pod.columns = range(1, len(soc_pod.columns)+1)\n",
    "soc_pod.fillna(0, inplace=True)\n",
    "result_soc_pod = pd.DataFrame()\n",
    "result_soc_pod['Социальная поддержка семья'] = soc_pod.loc[:, [3, 4, 8, 11]].sum(axis=1)\n",
    "result_soc_pod['Социальная поддержка друзей'] = soc_pod.loc[:, [6, 7, 9, 12]].sum(axis=1)\n",
    "result_soc_pod['Социальная поддержка от \"Значимых других\"'] = soc_pod.loc[:, [1, 2, 5, 10]].sum(axis=1)"
   ]
  },
  {
   "cell_type": "code",
   "execution_count": null,
   "metadata": {},
   "outputs": [],
   "source": []
  },
  {
   "cell_type": "code",
   "execution_count": 5,
   "metadata": {},
   "outputs": [],
   "source": [
    "psih_blag = df.iloc[:, 115:115+54]"
   ]
  },
  {
   "cell_type": "code",
   "execution_count": 6,
   "metadata": {},
   "outputs": [],
   "source": [
    "psih_blag.replace(to_replace=['Совершенно согласна', 'Согласна', 'Сложно сказать, и согласна, и не согласна', 'Не согласна', 'Категорически не согласна'], \n",
    "                  value=[5, 4, 3, 2, 1], inplace=True)\n",
    "\n",
    "psih_blag.fillna(psih_blag.median(), inplace=True)"
   ]
  },
  {
   "cell_type": "code",
   "execution_count": 7,
   "metadata": {},
   "outputs": [],
   "source": [
    "psih_blag.columns = range(1, len(psih_blag.columns)+1)\n",
    "result_psih_blag = pd.DataFrame()\n",
    "p = {1: 5, 2: 4, 3:3, 4:2, 5:1}\n",
    "result_psih_blag['Автономность'] = psih_blag[1] + psih_blag[7] + psih_blag[22] + psih_blag[29] + psih_blag[54] + \\\n",
    "                                   psih_blag[8].apply(lambda x: p[int(x)])+\\\n",
    "                                   psih_blag[15].apply(lambda x: p[int(x)])+\\\n",
    "                                   psih_blag[36].apply(lambda x: p[int(x)])+\\\n",
    "                                   psih_blag[52].apply(lambda x: p[int(x)])                                           "
   ]
  },
  {
   "cell_type": "code",
   "execution_count": 8,
   "metadata": {},
   "outputs": [],
   "source": [
    "result_psih_blag['Компетентность'] = psih_blag[2] + psih_blag[14] + psih_blag[30] + psih_blag[37] +\\\n",
    "                                   psih_blag[9].apply(lambda x: p[int(x)])+\\\n",
    "                                   psih_blag[16].apply(lambda x: p[int(x)])+\\\n",
    "                                    psih_blag[23].apply(lambda x: p[int(x)])+\\\n",
    "                                    psih_blag[46].apply(lambda x: p[int(x)])+\\\n",
    "                                    psih_blag[50].apply(lambda x: p[int(x)])"
   ]
  },
  {
   "cell_type": "code",
   "execution_count": 9,
   "metadata": {},
   "outputs": [],
   "source": [
    "result_psih_blag['Личностный рост'] = psih_blag[3] + psih_blag[10] + psih_blag[21] + psih_blag[38] + psih_blag[43]+\\\n",
    "                                   psih_blag[17].apply(lambda x: p[int(x)])+\\\n",
    "                                   psih_blag[24].apply(lambda x: p[int(x)])+\\\n",
    "                                   psih_blag[31].apply(lambda x: p[int(x)])+\\\n",
    "                                   psih_blag[51].apply(lambda x: p[int(x)]) "
   ]
  },
  {
   "cell_type": "code",
   "execution_count": 10,
   "metadata": {},
   "outputs": [],
   "source": [
    "result_psih_blag['Позитивные отношения'] = psih_blag[11] + psih_blag[28] + psih_blag[32] + psih_blag[39]+\\\n",
    "                                   psih_blag[4].apply(lambda x: p[int(x)])+\\\n",
    "                                   psih_blag[18].apply(lambda x: p[int(x)])+\\\n",
    "                                   psih_blag[25].apply(lambda x: p[int(x)])+\\\n",
    "                                   psih_blag[47].apply(lambda x: p[int(x)])+\\\n",
    "                                   psih_blag[53].apply(lambda x: p[int(x)]) "
   ]
  },
  {
   "cell_type": "code",
   "execution_count": 11,
   "metadata": {},
   "outputs": [],
   "source": [
    "result_psih_blag['Жизненные цели'] = psih_blag[5] + psih_blag[19] + psih_blag[26] + psih_blag[35] + psih_blag[45]+\\\n",
    "                                   psih_blag[12].apply(lambda x: p[int(x)])+\\\n",
    "                                   psih_blag[33].apply(lambda x: p[int(x)])+\\\n",
    "                                   psih_blag[40].apply(lambda x: p[int(x)])+\\\n",
    "                                   psih_blag[48].apply(lambda x: p[int(x)]) "
   ]
  },
  {
   "cell_type": "code",
   "execution_count": 12,
   "metadata": {},
   "outputs": [],
   "source": [
    "result_psih_blag['Самопринятие'] = psih_blag[13] + psih_blag[20] + psih_blag[34] + psih_blag[41] + psih_blag[49]+\\\n",
    "                                   psih_blag[6].apply(lambda x: p[int(x)])+\\\n",
    "                                   psih_blag[27].apply(lambda x: p[int(x)])+\\\n",
    "                                   psih_blag[42].apply(lambda x: p[int(x)])+\\\n",
    "                                   psih_blag[44].apply(lambda x: p[int(x)]) "
   ]
  },
  {
   "cell_type": "markdown",
   "metadata": {
    "scrolled": true
   },
   "source": [
    "#SVAWS"
   ]
  },
  {
   "cell_type": "code",
   "execution_count": 13,
   "metadata": {},
   "outputs": [],
   "source": [
    "svaws = df.iloc[:, 1:47]\n",
    "svaws.columns = range(1, len(svaws.columns)+1)\n",
    "svaws.fillna('Никогда', inplace=True)"
   ]
  },
  {
   "cell_type": "code",
   "execution_count": 14,
   "metadata": {},
   "outputs": [],
   "source": [
    "svaws.replace(to_replace=['Никогда', 'Один раз', 'Пару раз', 'Редко', 'Много раз', 'Часто'], \n",
    "                  value=[0, 1, 2, 3, 4, 5], inplace=True)"
   ]
  },
  {
   "cell_type": "code",
   "execution_count": 15,
   "metadata": {},
   "outputs": [],
   "source": [
    "result_svaws = pd.DataFrame()\n",
    "result_svaws['Символическое насилие'] = svaws[1] + svaws[2] + svaws[3] + svaws[4]\n",
    "result_svaws['Легкое насилие'] = svaws[5] + svaws[6] + svaws[7] + svaws[8]\n",
    "result_svaws['Умеренное насилие'] = svaws[9] + svaws[10] + svaws[11] + svaws[12]\n",
    "result_svaws['Серьезное насилие'] = svaws[13] + svaws[14] + svaws[15] + svaws[16] + svaws[17] + svaws[18] + svaws[19]\n",
    "\n",
    "result_svaws['Легкое насилие2'] = svaws[20] + svaws[21] + svaws[22] + svaws[23]\n",
    "result_svaws['Слабое насилие2'] = svaws[24] + svaws[25] + svaws[26] + svaws[27] + svaws[28]\n",
    "result_svaws['Умеренное насилие2'] = svaws[29] + svaws[30] + svaws[31]\n",
    "result_svaws['Серьезное насилие2'] = svaws[32] + svaws[33] + svaws[34] + svaws[35] + svaws[36] + svaws[37] + svaws[38]\n",
    "\n",
    "result_svaws['Сексуальная агрессия'] = svaws[39] + svaws[40] + svaws[41] + svaws[42] + svaws[43] + svaws[44]"
   ]
  },
  {
   "cell_type": "markdown",
   "metadata": {},
   "source": [
    "#Chot"
   ]
  },
  {
   "cell_type": "code",
   "execution_count": 16,
   "metadata": {},
   "outputs": [],
   "source": [
    "chot = df.iloc[:, 103: 115]\n",
    "chot.columns = range(1, len(chot.columns)+1)\n",
    "chot.fillna('Нет', inplace=True)\n",
    "chot.replace(to_replace=['Нет', 'Да'], \n",
    "                  value=[0, 1], inplace=True)"
   ]
  },
  {
   "cell_type": "code",
   "execution_count": 17,
   "metadata": {},
   "outputs": [],
   "source": [
    "result_chot = pd.DataFrame()\n",
    "result_chot['Семья'] = chot[3] + chot[4] + chot[8] + chot[11]\n",
    "result_chot['Друзья'] = chot[6] + chot[7] + chot[9] + chot[12]\n",
    "result_chot['Значимых других'] = chot[1] + chot[2] + chot[5] + chot[10]"
   ]
  },
  {
   "cell_type": "code",
   "execution_count": 18,
   "metadata": {},
   "outputs": [],
   "source": [
    "srq = df.iloc[:, 55: 103]\n",
    "srq.columns = range(1, len(srq.columns)+1)\n",
    "srq.dropna(how='all', inplace=True)\n",
    "srq.fillna('Никогда', inplace=True)\n",
    "srq.replace(to_replace=['Никогда', 'Редко', 'Иногда', 'Часто', 'Всегда'], \n",
    "                  value=[0, 1, 2, 3, 4], inplace=True)"
   ]
  },
  {
   "cell_type": "code",
   "execution_count": 19,
   "metadata": {},
   "outputs": [],
   "source": [
    "result_srq = pd.DataFrame()\n",
    "result_srq['Turning Against'] = srq.loc[:, [17, 25, 33, 2, 10, 12, 18, 26, 44, 4, 27, 34, 43]].sum(axis=1)\n",
    "result_srq['Unsupportive Acknowledgment'] = srq.loc[:, [3, 20, 28, 36, 5, 13, 21, 29, 37, 45, 11, 19, 35]].sum(axis=1)\n",
    "result_srq['Positive reactions'] = srq.loc[:, [1, 6, 7, 9, 14, 15, 22, 23, 30, 31, 39, 40, 41, 46, 47, 8, 16, 24, 32, 48]].sum(axis=1)\n",
    "\n",
    "result_srq['Emotional Support'] = srq.loc[:, [1, 6, 7, 9, 14, 15, 22, 23, 30, 31, 39, 40, 41, 46, 47]].sum(axis=1)\n",
    "result_srq['Tangible Aid'] = srq.loc[:, [8, 16, 24, 32, 48]].sum(axis=1)\n",
    "result_srq['Blame'] = srq.loc[:, [17, 25, 33]].sum(axis=1)\n",
    "result_srq['Stigma/treat differently'] = srq.loc[:, [2, 10, 12, 18, 26, 44]].sum(axis=1)\n",
    "result_srq['Control'] = srq.loc[:, [4, 11, 19, 27, 34, 35, 43]].sum(axis=1)\n",
    "result_srq['Egocentric'] = srq.loc[:, [3, 20, 28, 36]].sum(axis=1)\n",
    "result_srq['Distract'] = srq.loc[:, [5, 13, 21, 29, 37, 45]].sum(axis=1)\n"
   ]
  },
  {
   "cell_type": "code",
   "execution_count": null,
   "metadata": {},
   "outputs": [],
   "source": []
  },
  {
   "cell_type": "code",
   "execution_count": 20,
   "metadata": {},
   "outputs": [],
   "source": [
    "leq = df.iloc[:, 169: 169+176]\n",
    "leq.columns = range(1, len(leq.columns)+1)\n",
    "cols_dates = [1,5,9,13,18,23,28,33,38,43,48,53,58,63,68,73,78,82,87,91,95,99,103,107,111,115,119,123,128,132,137,142,147,152,157,162,167,172]\n",
    "nums = leq.loc[:, cols_dates]\n",
    "result_leq = pd.DataFrame()"
   ]
  },
  {
   "cell_type": "code",
   "execution_count": 21,
   "metadata": {},
   "outputs": [],
   "source": [
    "nums = pd.DataFrame(nums.notnull().astype('int'))"
   ]
  },
  {
   "cell_type": "code",
   "execution_count": 22,
   "metadata": {},
   "outputs": [],
   "source": [
    "result_leq['Количество'] = nums.sum(axis=1)"
   ]
  },
  {
   "cell_type": "code",
   "execution_count": 23,
   "metadata": {},
   "outputs": [],
   "source": [
    "cols_vlianie = [x+2 for x in cols_dates]\n",
    "vlianie = leq.loc[:, cols_vlianie]"
   ]
  },
  {
   "cell_type": "code",
   "execution_count": 24,
   "metadata": {},
   "outputs": [],
   "source": [
    "vlianie.fillna(0.0, inplace=True)\n",
    "result_leq['Влияние'] = vlianie.sum(axis=1)"
   ]
  },
  {
   "cell_type": "code",
   "execution_count": 26,
   "metadata": {},
   "outputs": [],
   "source": [
    "result_leq['Влияние/Количество'] = np.where(result_leq['Количество'] == 0, 0, result_leq['Влияние']/result_leq['Количество'])"
   ]
  },
  {
   "cell_type": "code",
   "execution_count": null,
   "metadata": {},
   "outputs": [],
   "source": []
  },
  {
   "cell_type": "code",
   "execution_count": 27,
   "metadata": {},
   "outputs": [],
   "source": [
    "open_op = df.iloc[:, 47:55]\n",
    "open_op.dropna(how='all', inplace=True)\n",
    "open_op.columns = range(1, len(open_op.columns)+1)\n",
    "result_open_op = pd.DataFrame()\n",
    "result_open_op['Рассказывали ли Вы кому-то о сексуальном или физическом насилии со стороны вашего партнёра?'] = open_op[1].map({'Нет': 0, 'Да': 1})\n",
    "open_op[4].fillna('', inplace=True)\n",
    "result_open_op['Друзья'] = open_op[4].apply(lambda s: 'Друзьям' in s).astype('int')\n",
    "result_open_op['Матери'] = open_op[4].apply(lambda s: 'Матери' in s).astype('int')\n",
    "result_open_op['Отцу'] = open_op[4].apply(lambda s: 'Отцу' in s).astype('int')\n",
    "result_open_op['Другим родственникам'] = open_op[4].apply(lambda s: 'Другим родственникам' in s).astype('int')\n",
    "result_open_op['Поделилась пережитым в соцсетях'] = open_op[4].apply(lambda s: 'Поделилась пережитым в соцсетях' in s).astype('int')\n",
    "open_op[5].fillna('', inplace=True)\n",
    "result_open_op['В полицию'] = open_op[5].apply(lambda s: 'В полицию' in s).astype('int')\n",
    "result_open_op['В травму'] = open_op[5].apply(lambda s: 'В травму' in s).astype('int')\n",
    "result_open_op['К гинекологу'] = open_op[5].apply(lambda s: 'К гинекологу' in s).astype('int')\n",
    "open_op[7].fillna('Нет', inplace=True)\n",
    "result_open_op['Обращались ли Вы за помощью социальные центры, кризисные службы к психологам, адвокатам и т.д.?'] = open_op[7].map({'Нет': 0, 'Да': 1})\n",
    "result_open_op['Скольким примерно людям вы говорили об этих событиях?'] = open_op[2]\n",
    "result_open_op['Через какой промежуток времени вы рассказали об этом людям, которым доверяете?'] = open_op[3]"
   ]
  },
  {
   "cell_type": "code",
   "execution_count": 28,
   "metadata": {},
   "outputs": [],
   "source": [
    "result_xls = pd.concat([result_psih_blag, result_svaws, result_chot, result_leq, result_open_op, result_soc_pod, result_srq], axis=1, sort=False)"
   ]
  },
  {
   "cell_type": "code",
   "execution_count": 29,
   "metadata": {},
   "outputs": [],
   "source": [
    "result_xls.to_excel('result.xls')"
   ]
  },
  {
   "cell_type": "code",
   "execution_count": null,
   "metadata": {},
   "outputs": [],
   "source": []
  }
 ],
 "metadata": {
  "kernelspec": {
   "display_name": "Python 3",
   "language": "python",
   "name": "python3"
  },
  "language_info": {
   "codemirror_mode": {
    "name": "ipython",
    "version": 3
   },
   "file_extension": ".py",
   "mimetype": "text/x-python",
   "name": "python",
   "nbconvert_exporter": "python",
   "pygments_lexer": "ipython3",
   "version": "3.6.5"
  }
 },
 "nbformat": 4,
 "nbformat_minor": 2
}
